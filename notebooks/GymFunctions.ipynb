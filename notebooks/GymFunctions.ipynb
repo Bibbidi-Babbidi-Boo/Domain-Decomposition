{
 "cells": [
  {
   "cell_type": "markdown",
   "metadata": {},
   "source": [
    "# Test of Gym Environment Functions"
   ]
  },
  {
   "cell_type": "code",
   "execution_count": 1,
   "metadata": {},
   "outputs": [],
   "source": [
    "import time\n",
    "import math\n",
    "import sys\n",
    "import numpy as np\n",
    "import matplotlib.pyplot as plt\n",
    "from scipy.stats import multivariate_normal"
   ]
  },
  {
   "cell_type": "markdown",
   "metadata": {},
   "source": [
    "## 1. Generate random world size"
   ]
  },
  {
   "cell_type": "code",
   "execution_count": 2,
   "metadata": {},
   "outputs": [],
   "source": [
    "def varyWorldSize():\n",
    "    shapes=(20, 64)\n",
    "    shapes = np.random.randint(shapes[0], shapes[1] + 1)\n",
    "    shape = (shapes, shapes)\n",
    "    return shape"
   ]
  },
  {
   "cell_type": "code",
   "execution_count": 3,
   "metadata": {},
   "outputs": [
    {
     "name": "stdout",
     "output_type": "stream",
     "text": [
      "(22, 22)\n",
      "(33, 33)\n",
      "(58, 58)\n",
      "(42, 42)\n",
      "(27, 27)\n",
      "(39, 39)\n",
      "(45, 45)\n",
      "(46, 46)\n",
      "(46, 46)\n",
      "(22, 22)\n"
     ]
    }
   ],
   "source": [
    "for i in range(10):\n",
    "    print(varyWorldSize())"
   ]
  },
  {
   "cell_type": "markdown",
   "metadata": {},
   "source": [
    "Conclusion: \n",
    "This function generates a random world size between 20x20 and 64x64 (or whatever the values of `shapes` are)"
   ]
  },
  {
   "cell_type": "markdown",
   "metadata": {},
   "source": [
    "## 2. Generate Gaussian bivariate distribution"
   ]
  },
  {
   "cell_type": "markdown",
   "metadata": {},
   "source": [
    "Bivariate distribution formula:\n",
    "\n",
    "$c = \\frac{1}{2\\pi\\sigma_x\\sigma_y\\sqrt{1-r^2}} \\cdot e^{-\\frac{1}{2(1-r^2)} \\left(\\frac{(x-\\mu_x)^2}{\\sigma^2_x} - \\frac{2r(x-\\mu_x)(y-\\mu_y)}{\\sigma_x\\sigma_y} + \\frac{(y-\\mu_y)^2}{\\sigma^2_y} \\right)}$"
   ]
  },
  {
   "cell_type": "code",
   "execution_count": 4,
   "metadata": {},
   "outputs": [],
   "source": [
    "def bivariateGaussianMatrix(variance):\n",
    "    \"\"\"\n",
    "    Generates a single (not mixture) bivariate normal distribution, with independent axes\n",
    "    Input:\n",
    "        - variance: scales a the random variance for the x and y components\n",
    "    Output:\n",
    "        - distribution_matrix: 2D array containing single normal bivariate distribution\n",
    "    Note:\n",
    "        - map_shape needs to be declared before\n",
    "    \"\"\"\n",
    "    \n",
    "    # Generate means and covariance matrices\n",
    "    gaussian_mean = map_shape[0] * np.random.rand(1, 2)[0] # This generates a number 0-20 randomly\n",
    "    gaussian_var = np.zeros((2, 2)) \n",
    "    gaussian_var[([0, 1], [0, 1])] = variance * np.random.rand(1, 2)[0] # Generates a random covariance matrix scaled by variance\n",
    "    SigmaX = np.sqrt(gaussian_var[0][0])\n",
    "    SigmaY = np.sqrt(gaussian_var[1][1])\n",
    "    Covariance = gaussian_var[0][1]\n",
    "    \n",
    "    r = Covariance / (SigmaX * SigmaY) # Pearson correlation\n",
    "    \n",
    "    row_mat, col_mat = np.meshgrid(np.linspace(0, map_shape[0] - 1, map_shape[0]),\n",
    "                                   np.linspace(0, map_shape[1] - 1, map_shape[1]))\n",
    "    \n",
    "    coefficients = 1 / (2 * math.pi * SigmaX * SigmaY * np.sqrt(1 - math.pow(r, 2))) # Not sure what this is\n",
    "    p1 = -1 / (2 * (1 - math.pow(r, 2)))\n",
    "    px = np.power(row_mat - gaussian_mean[0], 2) / gaussian_var[0][0]\n",
    "    py = np.power(col_mat - gaussian_mean[1], 2) / gaussian_var[1][1]\n",
    "    pxy = 2 * r * (row_mat - gaussian_mean[0]) * (col_mat - gaussian_mean[1]) / (SigmaX * SigmaY)\n",
    "    distribution_matrix = coefficients * np.exp(p1 * (px - pxy + py))\n",
    "\n",
    "    return distribution_matrix"
   ]
  },
  {
   "cell_type": "markdown",
   "metadata": {},
   "source": [
    "## 3. Create Uncertainty"
   ]
  },
  {
   "cell_type": "code",
   "execution_count": 16,
   "metadata": {},
   "outputs": [
    {
     "data": {
      "image/png": "[encoded data removed]",
      "text/plain": [
       "<Figure size 432x288 with 2 Axes>"
      ]
     },
     "metadata": {
      "needs_background": "light"
     },
     "output_type": "display_data"
    }
   ],
   "source": [
    "map_shape = (64,64)\n",
    "variance_Scale = 100\n",
    "\n",
    "def createUncertainty():\n",
    "        \"\"\"\n",
    "        create the uncertainty of the map, and this map is used to set the targets\n",
    "        \"\"\"\n",
    "        numDistribs = 2 #np.random.randint(self.rangeDistribs[0], self.rangeDistribs[1] + 1)\n",
    "        uncertaintyMap = np.array([bivariateGaussianMatrix(map_shape, variance_scale) for _ in range(numDistribs)])\n",
    "        uncertaintyMap = np.mean(uncertaintyMap, axis=0)\n",
    "        uncertaintyMap /= np.sum(uncertaintyMap)\n",
    "        uncertaintyMap /= np.max(uncertaintyMap)\n",
    "\n",
    "        return uncertaintyMap\n",
    "    \n",
    "uncertainty = createUncertainty()\n",
    "plt.imshow(uncertainty)\n",
    "plt.colorbar()\n",
    "plt.show()\n",
    "\n",
    "# Why do we need an uncertainty map?"
   ]
  },
  {
   "cell_type": "markdown",
   "metadata": {},
   "source": [
    "# Gym environment"
   ]
  },
  {
   "cell_type": "code",
   "execution_count": 398,
   "metadata": {},
   "outputs": [],
   "source": [
    "import time\n",
    "import math\n",
    "import sys\n",
    "import numpy as np\n",
    "import matplotlib.pyplot as plt\n",
    "from scipy.stats import multivariate_normal\n",
    "from scipy.spatial import Voronoi, voronoi_plot_2d \n",
    "\n",
    "np.random.seed(10)\n",
    "\n",
    "# Define agent and environment settings (this will go in a class)\n",
    "# ---------------------------------------------------------------------------------\n",
    "map_shape = (64,64) # Top left: (0,0), Top right: (64, 0), Bottom right: (64,64)\n",
    "variance_scale = 100\n",
    "numDistribs = 2\n",
    "annealing = 10000\n",
    "epsilon = 0.1\n",
    "curr_timestep = 0\n",
    "\n",
    "# Convention for \"active\" map:\n",
    "# 0: Not active\n",
    "# 1: Active\n",
    "\n",
    "# Convention for render map:\n",
    "# 0: Not active\n",
    "# 1: Active\n",
    "# 2: Generator points\n",
    "# 3: Cutting line\n",
    "# 4: Region 1\n",
    "# 5: Region 2\n",
    "# ... (if needed)\n",
    "\n",
    "# ---------------------------------------------------------------------------------\n",
    "\n",
    "\n",
    "# Define all helper functions (these will go in a class)\n",
    "# ---------------------------------------------------------------------------------\n",
    "\n",
    "def bivariateGaussianMatrix(map_shape, variance_scale):\n",
    "    \"\"\"\n",
    "    Generates a single (not mixture) bivariate normal distribution, with independent axes\n",
    "    Input:\n",
    "        - map_shape: tuple (x, y) representing the map size\n",
    "        - variance_scale: scales a the random variance for the x and y components\n",
    "    Output:\n",
    "        - distribution_matrix: 2D array containing single normal bivariate distribution\n",
    "        - mean of the bivariateGaussain\n",
    "    \"\"\"\n",
    "    x, y = np.mgrid[0:map_shape[0], 0: map_shape[1]]\n",
    "    pos = np.dstack((x, y))\n",
    "    mean2D = map_shape[0] * np.random.rand(1, 2)[0]\n",
    "    cov2D = np.zeros((2, 2)) \n",
    "    cov2D[([0, 1], [0, 1])] = variance_scale * np.random.rand(1, 2)[0]\n",
    "    rv = multivariate_normal(mean2D, cov2D)\n",
    "    return rv.pdf(pos), mean2D\n",
    "\n",
    "def createInformationMap(numDistribs, map_shape, variance_scale):\n",
    "    '''\n",
    "    Generate a mixture of Gaussians, scaled so that the maximum value is close to 1.\n",
    "    Input:\n",
    "        - numDistribs: Number of distributions in the information map -> number of knots\n",
    "        - map_shape: Shape of the map\n",
    "        - variance_scale: Scaling value for the bivariateGaussianMatrix function\n",
    "    Output:\n",
    "        - infoMap: Mixture of Gaussians, plus a baseline probability for the rest of the cells\n",
    "        - scalar: Scaling factor used to make maximum value = 1\n",
    "        - means: Returns locations of the means of the distributions that make up the infoMap\n",
    "    '''\n",
    "    # Generate multiple bivariate Gaussians\n",
    "    infoMaps = []\n",
    "    means = []\n",
    "    for _ in range(numDistribs):\n",
    "        infoMap, meanDist = bivariateGaussianMatrix(map_shape, variance_scale)\n",
    "        infoMaps.append(infoMap)\n",
    "        means.append(meanDist)\n",
    "    infoMaps = np.asarray(infoMaps)\n",
    "    means = np.asarray(means)\n",
    "    \n",
    "    \n",
    "    # Mixture of Gaussians + epsilon probability for \"empty\" space\n",
    "    baseline = 0.1\n",
    "    infoMap = (1 - baseline) * np.mean(infoMaps, axis=0) + baseline * np.ones(map_shape) / (\n",
    "            map_shape[0] * map_shape[1])\n",
    "\n",
    "    # Scale so that the maximum value in the map is 1\n",
    "    # infoMapRaw = infoMap -> This is to check the actual values without scaling\n",
    "    maxInfo = np.max(infoMap)\n",
    "    scalar = 0.5/maxInfo * np.random.rand() + 0.5/maxInfo\n",
    "    infoMap = infoMap * scalar\n",
    "    \n",
    "    return infoMap, scalar, means\n",
    "\n",
    "def plot2D(array):\n",
    "    '''\n",
    "    Plot a 2D array with a colorbar\n",
    "    Input:\n",
    "        - array: 2D array to plot\n",
    "    '''\n",
    "    plt.imshow(array)\n",
    "    plt.colorbar()\n",
    "    plt.show()\n",
    "    \n",
    "    \n",
    "def makeAndPlotVoronoi(sites, plot=True, colorize=False):\n",
    "    '''\n",
    "    Generate a Voronoi diagram out of an array of seeds (sites, points, etc)\n",
    "    Input:\n",
    "        - sites: Array of sites for the Voronoi diagram\n",
    "        - plot: Boolean to plot the Voronoi diagram or not\n",
    "        - colorize: Boolean to colorize the Voronoi diagram when plotting or not\n",
    "    Output:\n",
    "        - vor: Voronoi object\n",
    "    '''\n",
    "    vor = Voronoi(sites)\n",
    "    \n",
    "    if plot:\n",
    "        voronoi_plot_2d(vor)\n",
    "        if colorize:\n",
    "            for region in vor.regions:\n",
    "                if not -1 in region:\n",
    "                    polygon = [vor.vertices[i] for i in region]\n",
    "                    plt.fill(*zip(*polygon))\n",
    "        plt.xlim([0,64]), plt.ylim([0,64])\n",
    "        plt.show()\n",
    "    return vor\n",
    "\n",
    "def midPoint_and_slope(p1, p2):\n",
    "    '''\n",
    "    Finds the midpoint between two points and the slope of the perpendicular bisector\n",
    "    \n",
    "    Input:\n",
    "        - p1: Tuple of point 1: (x,y)\n",
    "        - p2: Tuple of point 2: (x,y)\n",
    "    Output:\n",
    "        - midPoint: Tuple (x,y)\n",
    "        - slope: Float\n",
    "    '''\n",
    "    midPoint = ((p1[0]+ p2[0])/2, (p1[1] + p2[1])/2)\n",
    "    \n",
    "    slope_og = (p2[1] - p1[1])/(p2[0] - p1[0])\n",
    "    \n",
    "    slope = - 1/slope_og\n",
    "    \n",
    "    return midPoint, slope\n",
    "\n",
    "def findEndpoints(midpoint, perpSlope, map_shape):\n",
    "    '''\n",
    "    This function finds the endpoints for a line that has a given midpoint and a slope. \n",
    "    \n",
    "    Its intended use is in the case where we have two generator points, and we want to find the \n",
    "    cutting line between the two. To do this, we find the midpoint of these points, and the slope of the \n",
    "    perpendicular bisector.\n",
    "    \n",
    "    This is a naive approach, an improved version could be obtained by doing an incremental Bresenham's line algorithm\n",
    "    starting at the point in both directions. In this approach, we find each of the four possible endpoints given our map\n",
    "    dimensions, and we choose the two that lie within the boundary.\n",
    "    \n",
    "    Input:\n",
    "        - midpoint: a tuple (x,y) representing a point in the line we want to find\n",
    "        - perpSlope: a float representing the slope of the perpendicular bisector of two points\n",
    "        - map_shape: a tuple (x,y) representing the size of the map\n",
    "    Output:\n",
    "        - endpoints: A list containing 2 integer tuples that represent the endpoints on the map: [(x_1, y_1), (x_2, y_2)]\n",
    "    '''\n",
    "    endpoints = []\n",
    "    raw_endpoints = []\n",
    "    \n",
    "    # Check if slope is inf, -inf -> vertical cutting line\n",
    "    if (perpSlope == -np.inf) or (perpSlope == np.inf):\n",
    "#         print(\"slope is inf\")\n",
    "        endpoints.append((int(midpoint[0]), 0))\n",
    "        endpoints.append((int(midpoint[0]), map_shape[1]-1))\n",
    "        raw_endpoints.append((int(midpoint[0]), 0))\n",
    "        raw_endpoints.append((int(midpoint[0]), map_shape[1]-1))\n",
    "        return endpoints, raw_endpoints\n",
    "    \n",
    "    # Check if slope is 0, -0 -> horizontal cutting line\n",
    "    if perpSlope == 0:\n",
    "#         print(\"slope is 0\")\n",
    "        endpoints.append((0, int(midpoint[1])))\n",
    "        endpoints.append((map_shape[0]-1, int(midpoint[1])))\n",
    "        raw_endpoints.append((0, int(midpoint[1])))\n",
    "        raw_endpoints.append((map_shape[0]-1, int(midpoint[1])))\n",
    "        return endpoints, raw_endpoints\n",
    "    \n",
    "    # First possible endpoint: (x, 0)\n",
    "    x_try = midpoint[0] - midpoint[1]/perpSlope\n",
    "    \n",
    "    if (int(round(x_try)) >= 0) and (int(round(x_try)) < map_shape[0]):\n",
    "        if x_try >= 0:\n",
    "            endpoints.append((int(round(x_try)), 0))\n",
    "    raw_endpoints.append((x_try, 0))\n",
    "    \n",
    "    # Second possible endpoint: (x_map, y)\n",
    "    y_try = (map_shape[0]-1) * perpSlope - perpSlope*midpoint[0] + midpoint[1] # mapshape-1 is to deal with indices starting at 0\n",
    "    if (int(round(y_try)) >= 0) and (int(round(y_try)) < map_shape[1]):\n",
    "        if y_try >= 0:\n",
    "            endpoints.append((map_shape[0]-1, int(round(y_try))))\n",
    "    raw_endpoints.append((map_shape[0]-1, y_try))\n",
    "    \n",
    "    # Third possible endpoint: (x, y_map)\n",
    "    x_try = ((map_shape[1]-1) - midpoint[1] + perpSlope * midpoint[0]) / perpSlope\n",
    "    if (int(round(x_try)) >= 0) and (int(round(x_try)) < map_shape[0]):\n",
    "        if x_try >= 0:\n",
    "            endpoints.append((int(round(x_try)), map_shape[1]-1))\n",
    "    raw_endpoints.append((x_try, map_shape[1]-1))\n",
    "    \n",
    "    # Fourth possible endpoint: (0, y)\n",
    "    y_try = -perpSlope * midpoint[0] + midpoint[1]\n",
    "    if (int(round(y_try)) >= 0) and (int(round(y_try)) < map_shape[1]):\n",
    "        if y_try >= 0:\n",
    "            endpoints.append((0, int(round(y_try))))\n",
    "    raw_endpoints.append((0, y_try))\n",
    "    \n",
    "    endpoints = list(set(endpoints)) # Accounts for corner coordinates\n",
    "    \n",
    "    if len(endpoints) != 2:\n",
    "        print(\"ERROR: Don't have two endpoints!\")\n",
    "        \n",
    "    return endpoints, raw_endpoints\n",
    "\n",
    "def drawLine(start, end):\n",
    "    '''\n",
    "    Implements Bresenham's line algorithm\n",
    "    From http://www.roguebasin.com/index.php?title=Bresenham%27s_Line_Algorithm\n",
    "    \n",
    "    Input:\n",
    "        - start: Tuple of coordinates for starting point (x,y)\n",
    "        - end: Tuple of coordinates for end point (x,y)\n",
    "    Output:\n",
    "        - points: List of points that make up the line between the start and end points\n",
    "    '''\n",
    "    # Setup initial conditions\n",
    "    x1, y1 = start\n",
    "    x2, y2 = end\n",
    "    dx = x2 - x1\n",
    "    dy = y2 - y1\n",
    " \n",
    "    # Determine how steep the line is\n",
    "    is_steep = abs(dy) > abs(dx)\n",
    " \n",
    "    # Rotate line\n",
    "    if is_steep:\n",
    "        x1, y1 = y1, x1\n",
    "        x2, y2 = y2, x2\n",
    " \n",
    "    # Swap start and end points if necessary and store swap state\n",
    "    swapped = False\n",
    "    if x1 > x2:\n",
    "        x1, x2 = x2, x1\n",
    "        y1, y2 = y2, y1\n",
    "        swapped = True\n",
    " \n",
    "    # Recalculate differentials\n",
    "    dx = x2 - x1\n",
    "    dy = y2 - y1\n",
    " \n",
    "    # Calculate error\n",
    "    error = int(dx / 2.0)\n",
    "    ystep = 1 if y1 < y2 else -1\n",
    " \n",
    "    # Iterate over bounding box generating points between start and end\n",
    "    y = y1\n",
    "    points = []\n",
    "    for x in range(x1, x2 + 1):\n",
    "        coord = (y, x) if is_steep else (x, y)\n",
    "        points.append(coord)\n",
    "        error -= abs(dy)\n",
    "        if error < 0:\n",
    "            y += ystep\n",
    "            error += dx\n",
    " \n",
    "    # Reverse the list if the coordinates were swapped\n",
    "    if swapped:\n",
    "        points.reverse()\n",
    "    return points\n",
    "\n",
    "def drawMultipleLines(ridgeVertices):\n",
    "    '''\n",
    "    Calls the drawLine method for each pair of vertices in the array ridgeVertices\n",
    "    Input:\n",
    "        - ridgeVertices: 3D array (n, 2, 2) where n is the number of ridges to draw,\n",
    "                         the second dimension represents the two endpoints of the line, \n",
    "                         and the third dimension represents the x,y coordinates for a point\n",
    "    Outpu:\n",
    "        - lines: A list of lists, where each of the lists is the coordinates of the points\n",
    "                 that make up each line\n",
    "    \n",
    "    '''\n",
    "    \n",
    "    lines = []\n",
    "    for n in range(ridgeVertices.shape[0]):\n",
    "        v1 = tuple(ridgeVertices[n][0])\n",
    "        v2 = tuple(ridgeVertices[n][1])\n",
    "        \n",
    "        # Make the vertices integers instead of floats\n",
    "        v1 = tuple(map(int, v1))\n",
    "        v2 = tuple(map(int, v2))\n",
    "        lines.append(drawLine(v1, v2))\n",
    "    return lines\n",
    "\n",
    "# ---------------------------------------------------------------------------------"
   ]
  },
  {
   "cell_type": "code",
   "execution_count": 24,
   "metadata": {},
   "outputs": [],
   "source": [
    "# Create Ground Truth Information Map:\n",
    "# Create a Gaussian Mixture Model with 2 distributions, 64x64 map, and save it\n",
    "infoMap, scalar, means = createInformationMap(numDistribs, map_shape, variance_scale)\n",
    "# Create active array w ones((64,64)) representing active areas, where knots will be chosen \n",
    "active = np.zeros(map_shape)\n",
    "# Create render map for visualization purposes\n",
    "renderMap = np.zeros(map_shape)"
   ]
  },
  {
   "cell_type": "code",
   "execution_count": 25,
   "metadata": {},
   "outputs": [],
   "source": [
    "# Create agent's belief:\n",
    "# Create initial distribution: 1/64*64\n",
    "belief = np.ones(map_shape) / (map_shape[0] * map_shape[1])\n",
    "\n",
    "# Create uncertainty distribution: 1 everywhere\n",
    "uncertainty = np.ones(map_shape)"
   ]
  },
  {
   "cell_type": "code",
   "execution_count": 26,
   "metadata": {},
   "outputs": [
    {
     "name": "stdout",
     "output_type": "stream",
     "text": [
      "Epsilon: 1.0\n",
      "Exploring\n"
     ]
    },
    {
     "data": {
      "image/png": "[encoded data removed]",
      "text/plain": [
       "<Figure size 432x288 with 2 Axes>"
      ]
     },
     "metadata": {
      "needs_background": "light"
     },
     "output_type": "display_data"
    },
    {
     "name": "stdout",
     "output_type": "stream",
     "text": [
      "(36, 51)\n",
      "(16, 36)\n"
     ]
    },
    {
     "data": {
      "image/png": "[encoded data removed]",
      "text/plain": [
       "<Figure size 432x288 with 2 Axes>"
      ]
     },
     "metadata": {
      "needs_background": "light"
     },
     "output_type": "display_data"
    }
   ],
   "source": [
    "# Create actions:\n",
    "# Choose 2 points: choose random w prob ~1, linearly decrease to choose max 2 vals in agent's belief\n",
    "curr_epsilon = np.maximum(((epsilon - 1) / annealing) * curr_timestep + 1, epsilon) # exploration rate (epsilon) at the current timestep\n",
    "\n",
    "random_sample = np.random.rand()\n",
    "print(\"Epsilon: \" + str(curr_epsilon))\n",
    "if curr_epsilon > random_sample:\n",
    "    # Explore! Choose two random integer pairs\n",
    "    print(\"Exploring\")\n",
    "    p1 = (np.random.randint(0,map_shape[0]-1), np.random.randint(0,map_shape[1]-1))\n",
    "    p2 = (np.random.randint(0,map_shape[0]-1), np.random.randint(0,map_shape[1]-1))\n",
    "    \n",
    "else:\n",
    "    # Choose the two highest points in the array for now -> Later: Output of a neural net\n",
    "    \n",
    "    first_peak_val = np.partition(belief.flatten(), -2)[-1]\n",
    "    first_peak_index = tuple(np.argwhere(belief==first_peak_val)[0])\n",
    "    second_peak_val = np.partition(belief.flatten(), -2)[-2]\n",
    "    second_peak_index = tuple(np.argwhere(belief==second_peak_val)[0])\n",
    "    \n",
    "    # Validate peaks: (This could be extended to have at least one space in between peaks if necessary)\n",
    "    count = 0\n",
    "    if first_peak_index == second_peak_index:\n",
    "        count += 1\n",
    "        second_peak_index = tuple(np.argwhere(belief==second_peak_val)[count])\n",
    "    \n",
    "    p1 = first_peak_index\n",
    "    p2 = second_peak_index\n",
    "    \n",
    "plot2D(belief)\n",
    "print(p1)\n",
    "print(p2)\n",
    "\n",
    "active[p1[::-1]] = 2\n",
    "active[p2[::-1]] = 2\n",
    "\n",
    "# Find endpoints of the cuts based on these points: 2-point Voronoi diagram\n",
    "\n",
    "midpoint, slope = midPoint_and_slope(p1, p2)\n",
    "endpoints, raw_endpoints = findEndpoints(midpoint, slope, map_shape)\n",
    "endp1 = endpoints[0]\n",
    "endp2 = endpoints[1]\n",
    "\n",
    "# Draw Bresenham's line: \n",
    "# Assume endpoints has two elements\n",
    "# We need to reverse the order of the points for plotting purposes. See convention above\n",
    "\n",
    "points = drawLine(endp1[::-1],endp2[::-1])\n",
    "for i in points:\n",
    "    active[i] = 1\n",
    "plot2D(active)\n",
    "\n",
    "# Cut: Go through each of the spaces in the cutting line if possible, count the effort it takes, update the agent's \n",
    "# belief and uncertainty at each point (Need sensor). Return success/not success + amount of work done\n",
    "\n",
    "\n",
    "# \"Analyze cut\": Determine if a cut was valid, and if so, if the separated regions are < certain area -> How do we \n",
    "# separate the regions? Everything below and to the left is a color until you find a 1, everything above \n",
    "# and to the right is another color until you find a 1? Return a quantifiable success metric for the reward\n",
    "\n",
    "\n",
    "# Update map: Clean up \"collected\" areas"
   ]
  },
  {
   "cell_type": "code",
   "execution_count": 27,
   "metadata": {},
   "outputs": [
    {
     "data": {
      "image/png": "[encoded data removed]",
      "text/plain": [
       "<Figure size 432x288 with 2 Axes>"
      ]
     },
     "metadata": {
      "needs_background": "light"
     },
     "output_type": "display_data"
    }
   ],
   "source": [
    "'''\n",
    "If cut is sucessful we seperate the regions to identify whether it can be collected or not \n",
    "'''\n",
    "\n",
    "for k in range(len(points)):\n",
    "#     print(points[k])\n",
    "    i = points[k][0]\n",
    "    for j in range(points[k][1]-1):\n",
    "        active[i][j] = 4\n",
    "    for j in range(64-points[k][1]):\n",
    "        active[i][-j-1] = 5\n",
    "active[p1[::-1]] = 2\n",
    "active[p2[::-1]] = 2\n",
    "plot2D(active)"
   ]
  },
  {
   "cell_type": "code",
   "execution_count": 28,
   "metadata": {},
   "outputs": [],
   "source": [
    "# Calculate reward\n"
   ]
  },
  {
   "cell_type": "code",
   "execution_count": 29,
   "metadata": {},
   "outputs": [],
   "source": [
    "# Determine if episode is over or not\n",
    "\n"
   ]
  },
  {
   "cell_type": "code",
   "execution_count": 30,
   "metadata": {},
   "outputs": [
    {
     "name": "stdout",
     "output_type": "stream",
     "text": [
      "[4, 5]\n",
      "2143\n",
      "1887\n",
      "Region with value 5 is small enough to be picked up\n"
     ]
    }
   ],
   "source": [
    "#Calculate area and determine if it is small enough to collect or not\n",
    "threshold = 2000\n",
    "value = [4,5]\n",
    "print(value)\n",
    "for i in value:\n",
    "    occurrences = np.count_nonzero(active == i)\n",
    "    print(occurrences)\n",
    "    if occurrences<=threshold:\n",
    "        print('Region with value {} is small enough to be picked up' .format(i))"
   ]
  },
  {
   "cell_type": "code",
   "execution_count": null,
   "metadata": {},
   "outputs": [],
   "source": []
  },
  {
   "cell_type": "markdown",
   "metadata": {},
   "source": [
    "### Testbed for Voronoi diagrams"
   ]
  },
  {
   "cell_type": "code",
   "execution_count": 31,
   "metadata": {},
   "outputs": [],
   "source": [
    "import numpy as np\n",
    "from scipy.spatial import Voronoi, voronoi_plot_2d \n",
    "import matplotlib.pyplot as plt"
   ]
  },
  {
   "cell_type": "code",
   "execution_count": 32,
   "metadata": {},
   "outputs": [],
   "source": [
    "sites = np.random.randint(0, 63, (15,2))"
   ]
  },
  {
   "cell_type": "code",
   "execution_count": 33,
   "metadata": {},
   "outputs": [
    {
     "data": {
      "text/plain": [
       "array([[47, 11],\n",
       "       [54, 24],\n",
       "       [43, 58],\n",
       "       [62, 33],\n",
       "       [ 8, 36],\n",
       "       [14, 49],\n",
       "       [51, 54],\n",
       "       [13,  5],\n",
       "       [13, 51],\n",
       "       [25, 62],\n",
       "       [13, 28],\n",
       "       [22, 30],\n",
       "       [30, 25],\n",
       "       [12,  1],\n",
       "       [31, 57]])"
      ]
     },
     "execution_count": 33,
     "metadata": {},
     "output_type": "execute_result"
    }
   ],
   "source": [
    "sites"
   ]
  },
  {
   "cell_type": "code",
   "execution_count": 34,
   "metadata": {},
   "outputs": [],
   "source": [
    "sites_flipped = []\n",
    "for s in sites.tolist():\n",
    "    sites_flipped.append(s[::-1])\n",
    "sites_flipped = np.asarray(sites_flipped)"
   ]
  },
  {
   "cell_type": "code",
   "execution_count": 35,
   "metadata": {},
   "outputs": [
    {
     "data": {
      "image/png": "[encoded data removed]",
      "text/plain": [
       "<Figure size 432x288 with 1 Axes>"
      ]
     },
     "metadata": {
      "needs_background": "light"
     },
     "output_type": "display_data"
    }
   ],
   "source": [
    "vor = Voronoi(sites)\n",
    "# voronoi_plot_2d(vor)\n",
    "# plt.show()\n",
    "\n",
    "vor_flipped = Voronoi(sites_flipped)\n",
    "voronoi_plot_2d(vor_flipped)\n",
    "plt.show()"
   ]
  },
  {
   "cell_type": "code",
   "execution_count": 36,
   "metadata": {},
   "outputs": [],
   "source": [
    "def voronoi_finite_polygons_2d(vor, radius=None):\n",
    "    \"\"\"Reconstruct infinite Voronoi regions in a\n",
    "    2D diagram to finite regions.\n",
    "    Source:\n",
    "    [https://stackoverflow.com/a/20678647/1595060](https://stackoverflow.com/a/20678647/1595060)\n",
    "    \"\"\"\n",
    "    print(\"Running voronoi_finite_polygons_2d\")\n",
    "    if vor.points.shape[1] != 2:\n",
    "        raise ValueError(\"Requires 2D input\")\n",
    "    new_regions = []\n",
    "    new_vertices = vor.vertices.tolist()\n",
    "    new_ridge_vertices = []\n",
    "    vor_ridge_vertices = vor.ridge_vertices\n",
    "    for p in vor_ridge_vertices:\n",
    "        if all(i >= 0 for i in p):\n",
    "            new_ridge_vertices.append(p)\n",
    "#     print(\"===================\")\n",
    "#     print(\"Starting state: \")\n",
    "#     print(\"new_regions: \")\n",
    "#     print(new_regions)\n",
    "#     print(\"new_vertices: \")\n",
    "#     print(new_vertices)\n",
    "    center = vor.points.mean(axis=0)\n",
    "#     print(\"center: \" + str(center))\n",
    "    if radius is None:\n",
    "        radius = vor.points.ptp().max()\n",
    "#     print(\"radius: \" + str(radius))\n",
    "    # Construct a map containing all ridges for a\n",
    "    # given point\n",
    "#     print(\"====================\")\n",
    "    \n",
    "#     print(\"====================\")\n",
    "    all_ridges = {}\n",
    "    for (p1, p2), (v1, v2) in zip(vor.ridge_points,\n",
    "                                  vor.ridge_vertices):\n",
    "        all_ridges.setdefault(\n",
    "            p1, []).append((p2, v1, v2))\n",
    "        all_ridges.setdefault(\n",
    "            p2, []).append((p1, v1, v2))\n",
    "#     print(\"all_ridges: \")\n",
    "#     print(all_ridges)\n",
    "#     print(\"====================\")\n",
    "\n",
    "#     print(\"--------------------\")\n",
    "    # Reconstruct infinite regions\n",
    "    for p1, region in enumerate(vor.point_region): # p1 is a counter (0,1, etc), region is the region \"name (label)\" for the p1th point\n",
    "#         print(\"++++++++++++++++++++\")\n",
    "#         print(\"Examining p1: \" + str(p1) + \", region: \" + str(region))\n",
    "        vertices = vor.regions[region] # Returns the vertices that corresponds to the \"region_th\" region. Region starts at 1\n",
    "#         print(\"Vertices for this region: \" + str(vertices))\n",
    "        if all(v >= 0 for v in vertices):\n",
    "            # finite region\n",
    "#             print(\"All v >= 0, finite region, append to new_regions!\")\n",
    "            new_regions.append(vertices)\n",
    "#             print(\"new_regions: \")\n",
    "#             print(new_regions)\n",
    "#             print(\"Continue!\")\n",
    "            continue\n",
    "        # reconstruct a non-finite region\n",
    "#         print(\"ridges for p1: (\" + str(p1) + \")\")\n",
    "        ridges = all_ridges[p1] # Get a list of all ridges surrounding that point [(p2, v1, v2)]\n",
    "#         print(ridges)\n",
    "        new_region = [v for v in vertices if v >= 0] # new_region contains all the finite vertices from std vor\n",
    "#         print(\"New_region: contains all finite vertices for region \" + str(region))\n",
    "#         print(new_region)\n",
    "        for p2, v1, v2 in ridges:\n",
    "#             print(\"====================\")\n",
    "#             print(\"Current ridge: (p1, p2, v1, v2)\")\n",
    "#             print(\"(\" + str(p1) + \", \" + str(p2) + \", \" + str(v1) + \", \" + str(v2) + \")\")\n",
    "            if v2 < 0: # Why is this here? Just to flip order?\n",
    "                v1, v2 = v2, v1\n",
    "            if v1 >= 0:  # v1 is always the one that could be at infinity\n",
    "                # finite ridge: already in the region\n",
    "#                 print(\"Neither vertices are infinite!\")\n",
    "#                 print(\"Continue!\")\n",
    "                continue\n",
    "#             print(\"Current ridge updated: (p1, p2, v1, v2)\")\n",
    "#             print(\"(\" + str(p1) + \", \" + str(p2) + \", \" + str(v1) + \", \" + str(v2) + \")\")\n",
    "            # Compute the missing endpoint of an\n",
    "            # infinite ridge\n",
    "            t = vor.points[p2] - \\\n",
    "                vor.points[p1]  # tangent\n",
    "            t /= np.linalg.norm(t) # Normalize\n",
    "            n = np.array([-t[1], t[0]])  # normal\n",
    "            midpoint = vor.points[[p1, p2]]. \\\n",
    "                mean(axis=0)\n",
    "            direction = np.sign(\n",
    "                np.dot(midpoint - center, n)) * n\n",
    "            far_point = vor.vertices[v2] + \\\n",
    "                direction * radius\n",
    "#             print(\"far_point: \" + str(far_point)) \n",
    "            new_region.append(len(new_vertices))\n",
    "            new_vertices.append(far_point.tolist())\n",
    "#             print(\"Updated new_region and new_vertices:\")\n",
    "#             print(\"new_region: \" + str(new_region))\n",
    "#             print(\"new_vertices: \" + str(new_vertices))\n",
    "            \n",
    "#             print(\"Appending new ridge_vertices: \")\n",
    "            new_ridge_vertices.append([v2, len(new_vertices)-1])\n",
    "#             print(\"new_ridge_vertices: \")\n",
    "#             print(new_ridge_vertices)\n",
    "#             print(\"====================\")\n",
    "        # Sort region counterclockwise.\n",
    "        vs = np.asarray([new_vertices[v]\n",
    "                         for v in new_region])\n",
    "        c = vs.mean(axis=0)\n",
    "        angles = np.arctan2(\n",
    "            vs[:, 1] - c[1], vs[:, 0] - c[0])\n",
    "        new_region = np.array(new_region)[\n",
    "            np.argsort(angles)]\n",
    "#         print(\"sorted new_region: \" + str(new_region))\n",
    "        new_regions.append(new_region.tolist())\n",
    "#         print(\"Updated new_regions: \" + str(new_regions))\n",
    "#         print(\"++++++++++++++++++++\")\n",
    "    \n",
    "#     print(\"--------------------\")\n",
    "    return new_regions, np.asarray(new_vertices), new_ridge_vertices\n",
    "\n",
    "\n",
    "def vertIdxToVal(vertices, ridge_vertices):\n",
    "    '''\n",
    "    Transforms the array of *indices* ridge_vertices into actual locations\n",
    "    Input:\n",
    "        vertices: Array containing the locations of all vertices\n",
    "        ridge_Vertices: Array of indices (to vertices) of the vertices that make up the ith ridge\n",
    "    Output:\n",
    "        ridge_vertices_vals: 3D Array (n, 2, 2) of locations of the vertices that make up the n ridges\n",
    "    '''\n",
    "    ridge_vertices_val = []\n",
    "    for idx_pair in ridge_vertices:\n",
    "        ridge_vertices_val.append((vertices[idx_pair[0]].tolist(), vertices[idx_pair[1]].tolist()))\n",
    "    unique_ridge_vertices_vals = np.unique(np.asarray(ridge_vertices_val), axis=0)\n",
    "    \n",
    "    return unique_ridge_vertices_vals\n",
    "    "
   ]
  },
  {
   "cell_type": "code",
   "execution_count": 37,
   "metadata": {},
   "outputs": [
    {
     "name": "stdout",
     "output_type": "stream",
     "text": [
      "Running voronoi_finite_polygons_2d\n"
     ]
    }
   ],
   "source": [
    "new_regions, new_vertices, new_ridge_vertices = voronoi_finite_polygons_2d(vor)"
   ]
  },
  {
   "cell_type": "code",
   "execution_count": 38,
   "metadata": {},
   "outputs": [],
   "source": [
    "ridge_verts = vertIdxToVal(new_vertices, new_ridge_vertices)"
   ]
  },
  {
   "cell_type": "code",
   "execution_count": 39,
   "metadata": {},
   "outputs": [],
   "source": [
    "lines = drawMultipleLines(ridge_verts)"
   ]
  },
  {
   "cell_type": "code",
   "execution_count": 40,
   "metadata": {},
   "outputs": [],
   "source": [
    "x_min = 0\n",
    "x_max = 63\n",
    "y_min = 0\n",
    "y_max = 63\n",
    "valid_lines = []\n",
    "for line in lines:\n",
    "    temp_line = []\n",
    "    for i,p in enumerate(line):\n",
    "        if (p[0] >= x_min and p[0] <= x_max) and (p[1] >= y_min and p[1] <= y_max):\n",
    "            temp_line.append(p)\n",
    "    valid_lines.append(temp_line)"
   ]
  },
  {
   "cell_type": "code",
   "execution_count": 41,
   "metadata": {},
   "outputs": [
    {
     "data": {
      "image/png": "[encoded data removed]",
      "text/plain": [
       "<Figure size 432x288 with 2 Axes>"
      ]
     },
     "metadata": {
      "needs_background": "light"
     },
     "output_type": "display_data"
    }
   ],
   "source": [
    "canvas = np.zeros((64,64))\n",
    "\n",
    "for l in valid_lines:\n",
    "    for p in l:\n",
    "        canvas[p] = 1\n",
    "\n",
    "for s in sites.tolist():\n",
    "    canvas[tuple(s)] = 2\n",
    "plot2D(canvas)"
   ]
  },
  {
   "cell_type": "markdown",
   "metadata": {},
   "source": [
    "# Voronoi diagram testing"
   ]
  },
  {
   "cell_type": "code",
   "execution_count": 3,
   "metadata": {},
   "outputs": [],
   "source": [
    "import numpy as np\n",
    "from scipy.spatial import Voronoi, voronoi_plot_2d \n",
    "import matplotlib.pyplot as plt"
   ]
  },
  {
   "cell_type": "code",
   "execution_count": 43,
   "metadata": {},
   "outputs": [],
   "source": [
    "def voronoi_finite_polygons_2d(vor, radius=None):\n",
    "    \"\"\"Reconstruct infinite Voronoi regions in a\n",
    "    2D diagram to finite regions.\n",
    "    Source:\n",
    "    [https://stackoverflow.com/a/20678647/1595060](https://stackoverflow.com/a/20678647/1595060)\n",
    "    \"\"\"\n",
    "    print(\"Running voronoi_finite_polygons_2d\")\n",
    "    if vor.points.shape[1] != 2:\n",
    "        raise ValueError(\"Requires 2D input\")\n",
    "    new_regions = []\n",
    "    new_vertices = vor.vertices.tolist()\n",
    "    new_ridge_vertices = []\n",
    "    vor_ridge_vertices = vor.ridge_vertices\n",
    "    for p in vor_ridge_vertices:\n",
    "        if all(i >= 0 for i in p):\n",
    "            new_ridge_vertices.append(p)\n",
    "#     print(\"===================\")\n",
    "#     print(\"Starting state: \")\n",
    "#     print(\"new_regions: \")\n",
    "#     print(new_regions)\n",
    "#     print(\"new_vertices: \")\n",
    "#     print(new_vertices)\n",
    "    center = vor.points.mean(axis=0)\n",
    "#     print(\"center: \" + str(center))\n",
    "    if radius is None:\n",
    "        radius = vor.points.ptp().max()\n",
    "#     print(\"radius: \" + str(radius))\n",
    "    # Construct a map containing all ridges for a\n",
    "    # given point\n",
    "#     print(\"====================\")\n",
    "    \n",
    "#     print(\"====================\")\n",
    "    all_ridges = {}\n",
    "    for (p1, p2), (v1, v2) in zip(vor.ridge_points,\n",
    "                                  vor.ridge_vertices):\n",
    "        all_ridges.setdefault(\n",
    "            p1, []).append((p2, v1, v2))\n",
    "        all_ridges.setdefault(\n",
    "            p2, []).append((p1, v1, v2))\n",
    "#     print(\"all_ridges: \")\n",
    "#     print(all_ridges)\n",
    "#     print(\"====================\")\n",
    "\n",
    "#     print(\"--------------------\")\n",
    "    # Reconstruct infinite regions\n",
    "    for p1, region in enumerate(vor.point_region): # p1 is a counter (0,1, etc), region is the region \"name (label)\" for the p1th point\n",
    "#         print(\"++++++++++++++++++++\")\n",
    "#         print(\"Examining p1: \" + str(p1) + \", region: \" + str(region))\n",
    "        vertices = vor.regions[region] # Returns the vertices that corresponds to the \"region_th\" region. Region starts at 1\n",
    "#         print(\"Vertices for this region: \" + str(vertices))\n",
    "        if all(v >= 0 for v in vertices):\n",
    "            # finite region\n",
    "#             print(\"All v >= 0, finite region, append to new_regions!\")\n",
    "            new_regions.append(vertices)\n",
    "#             print(\"new_regions: \")\n",
    "#             print(new_regions)\n",
    "#             print(\"Continue!\")\n",
    "            continue\n",
    "        # reconstruct a non-finite region\n",
    "#         print(\"ridges for p1: (\" + str(p1) + \")\")\n",
    "        ridges = all_ridges[p1] # Get a list of all ridges surrounding that point [(p2, v1, v2)]\n",
    "#         print(ridges)\n",
    "        new_region = [v for v in vertices if v >= 0] # new_region contains all the finite vertices from std vor\n",
    "#         print(\"New_region: contains all finite vertices for region \" + str(region))\n",
    "#         print(new_region)\n",
    "        for p2, v1, v2 in ridges:\n",
    "#             print(\"====================\")\n",
    "#             print(\"Current ridge: (p1, p2, v1, v2)\")\n",
    "#             print(\"(\" + str(p1) + \", \" + str(p2) + \", \" + str(v1) + \", \" + str(v2) + \")\")\n",
    "            if v2 < 0: # Why is this here? Just to flip order?\n",
    "                v1, v2 = v2, v1\n",
    "            if v1 >= 0:  # v1 is always the one that could be at infinity\n",
    "                # finite ridge: already in the region\n",
    "#                 print(\"Neither vertices are infinite!\")\n",
    "#                 print(\"Continue!\")\n",
    "                continue\n",
    "#             print(\"Current ridge updated: (p1, p2, v1, v2)\")\n",
    "#             print(\"(\" + str(p1) + \", \" + str(p2) + \", \" + str(v1) + \", \" + str(v2) + \")\")\n",
    "            # Compute the missing endpoint of an\n",
    "            # infinite ridge\n",
    "            t = vor.points[p2] - \\\n",
    "                vor.points[p1]  # tangent\n",
    "            t /= np.linalg.norm(t) # Normalize\n",
    "            n = np.array([-t[1], t[0]])  # normal\n",
    "            midpoint = vor.points[[p1, p2]]. \\\n",
    "                mean(axis=0)\n",
    "            direction = np.sign(\n",
    "                np.dot(midpoint - center, n)) * n\n",
    "            far_point = vor.vertices[v2] + \\\n",
    "                direction * radius\n",
    "#             print(\"far_point: \" + str(far_point)) \n",
    "            new_region.append(len(new_vertices))\n",
    "            new_vertices.append(far_point.tolist())\n",
    "#             print(\"Updated new_region and new_vertices:\")\n",
    "#             print(\"new_region: \" + str(new_region))\n",
    "#             print(\"new_vertices: \" + str(new_vertices))\n",
    "            \n",
    "#             print(\"Appending new ridge_vertices: \")\n",
    "            new_ridge_vertices.append([v2, len(new_vertices)-1])\n",
    "#             print(\"new_ridge_vertices: \")\n",
    "#             print(new_ridge_vertices)\n",
    "#             print(\"====================\")\n",
    "        # Sort region counterclockwise.\n",
    "        vs = np.asarray([new_vertices[v]\n",
    "                         for v in new_region])\n",
    "        c = vs.mean(axis=0)\n",
    "        angles = np.arctan2(\n",
    "            vs[:, 1] - c[1], vs[:, 0] - c[0])\n",
    "        new_region = np.array(new_region)[\n",
    "            np.argsort(angles)]\n",
    "#         print(\"sorted new_region: \" + str(new_region))\n",
    "        new_regions.append(new_region.tolist())\n",
    "#         print(\"Updated new_regions: \" + str(new_regions))\n",
    "#         print(\"++++++++++++++++++++\")\n",
    "    \n",
    "#     print(\"--------------------\")\n",
    "    return new_regions, np.asarray(new_vertices), new_ridge_vertices\n",
    "\n",
    "\n",
    "def vertIdxToVal(vertices, ridge_vertices):\n",
    "    '''\n",
    "    Transforms the array of *indices* ridge_vertices into actual locations\n",
    "    Input:\n",
    "        vertices: Array containing the locations of all vertices\n",
    "        ridge_Vertices: Array of indices (to vertices) of the vertices that make up the ith ridge\n",
    "    Output:\n",
    "        ridge_vertices_vals: 3D Array (n, 2, 2) of locations of the vertices that make up the n ridges\n",
    "    '''\n",
    "    ridge_vertices_val = []\n",
    "    for idx_pair in ridge_vertices:\n",
    "        ridge_vertices_val.append((vertices[idx_pair[0]].tolist(), vertices[idx_pair[1]].tolist()))\n",
    "    unique_ridge_vertices_vals = np.unique(np.asarray(ridge_vertices_val), axis=0)\n",
    "    \n",
    "    return unique_ridge_vertices_vals\n",
    "\n",
    "def drawLine(start, end):\n",
    "    '''\n",
    "    Implements Bresenham's line algorithm\n",
    "    From http://www.roguebasin.com/index.php?title=Bresenham%27s_Line_Algorithm\n",
    "    \n",
    "    Input:\n",
    "        - start: Tuple of coordinates for starting point (x,y)\n",
    "        - end: Tuple of coordinates for end point (x,y)\n",
    "    Output:\n",
    "        - points: List of points that make up the line between the start and end points\n",
    "    '''\n",
    "    # Setup initial conditions\n",
    "    x1, y1 = start\n",
    "    x2, y2 = end\n",
    "    dx = x2 - x1\n",
    "    dy = y2 - y1\n",
    " \n",
    "    # Determine how steep the line is\n",
    "    is_steep = abs(dy) > abs(dx)\n",
    " \n",
    "    # Rotate line\n",
    "    if is_steep:\n",
    "        x1, y1 = y1, x1\n",
    "        x2, y2 = y2, x2\n",
    " \n",
    "    # Swap start and end points if necessary and store swap state\n",
    "    swapped = False\n",
    "    if x1 > x2:\n",
    "        x1, x2 = x2, x1\n",
    "        y1, y2 = y2, y1\n",
    "        swapped = True\n",
    " \n",
    "    # Recalculate differentials\n",
    "    dx = x2 - x1\n",
    "    dy = y2 - y1\n",
    " \n",
    "    # Calculate error\n",
    "    error = int(dx / 2.0)\n",
    "    ystep = 1 if y1 < y2 else -1\n",
    " \n",
    "    # Iterate over bounding box generating points between start and end\n",
    "    y = y1\n",
    "    points = []\n",
    "    for x in range(x1, x2 + 1):\n",
    "        coord = (y, x) if is_steep else (x, y)\n",
    "        points.append(coord)\n",
    "        error -= abs(dy)\n",
    "        if error < 0:\n",
    "            y += ystep\n",
    "            error += dx\n",
    " \n",
    "    # Reverse the list if the coordinates were swapped\n",
    "    if swapped:\n",
    "        points.reverse()\n",
    "    return points\n",
    "\n",
    "def drawMultipleLines(ridgeVertices):\n",
    "    '''\n",
    "    Calls the drawLine method for each pair of vertices in the array ridgeVertices\n",
    "    Input:\n",
    "        - ridgeVertices: 3D array (n, 2, 2) where n is the number of ridges to draw,\n",
    "                         the second dimension represents the two endpoints of the line, \n",
    "                         and the third dimension represents the x,y coordinates for a point\n",
    "    Outpu:\n",
    "        - lines: A list of lists, where each of the lists is the coordinates of the points\n",
    "                 that make up each line\n",
    "    \n",
    "    '''\n",
    "    \n",
    "    lines = []\n",
    "    for n in range(ridgeVertices.shape[0]):\n",
    "        v1 = tuple(ridgeVertices[n][0])\n",
    "        v2 = tuple(ridgeVertices[n][1])\n",
    "        \n",
    "        # Make the vertices integers instead of floats\n",
    "        v1 = tuple(map(int, v1))\n",
    "        v2 = tuple(map(int, v2))\n",
    "        lines.append(drawLine(v1, v2))\n",
    "    return lines\n",
    "    "
   ]
  },
  {
   "cell_type": "markdown",
   "metadata": {},
   "source": [
    "## Test segment filling algorithms"
   ]
  },
  {
   "cell_type": "markdown",
   "metadata": {},
   "source": [
    "### Test skimage using two points"
   ]
  },
  {
   "cell_type": "code",
   "execution_count": 59,
   "metadata": {},
   "outputs": [
    {
     "data": {
      "image/png": "[encoded data removed]",
      "text/plain": [
       "<Figure size 432x288 with 2 Axes>"
      ]
     },
     "metadata": {
      "needs_background": "light"
     },
     "output_type": "display_data"
    }
   ],
   "source": [
    "map_shape = (64,64)\n",
    "canvas = np.zeros(map_shape)\n",
    "p1 = (np.random.randint(0,map_shape[0]-1), np.random.randint(0,map_shape[1]-1))\n",
    "p2 = (np.random.randint(0,map_shape[0]-1), np.random.randint(0,map_shape[1]-1))\n",
    "\n",
    "\n",
    "midpoint, slope = midPoint_and_slope(p1, p2)\n",
    "endpoints, raw_endpoints = findEndpoints(midpoint, slope, map_shape)\n",
    "endp1 = endpoints[0]\n",
    "endp2 = endpoints[1]\n",
    "\n",
    "# Draw Bresenham's line: \n",
    "# Assume endpoints has two elements\n",
    "# We need to reverse the order of the points for plotting purposes. See convention above\n",
    "\n",
    "points = drawLine(endp1[::-1],endp2[::-1])\n",
    "for i in points:\n",
    "    canvas[i] = 1\n",
    "canvas[p1[::-1]] = 2\n",
    "canvas[p2[::-1]] = 2\n",
    "plot2D(canvas)\n",
    "\n"
   ]
  },
  {
   "cell_type": "code",
   "execution_count": 60,
   "metadata": {},
   "outputs": [
    {
     "data": {
      "text/plain": [
       "(44, 63)"
      ]
     },
     "execution_count": 60,
     "metadata": {},
     "output_type": "execute_result"
    }
   ],
   "source": [
    "endp1"
   ]
  },
  {
   "cell_type": "code",
   "execution_count": 61,
   "metadata": {},
   "outputs": [
    {
     "ename": "IndexError",
     "evalue": "list index out of range",
     "output_type": "error",
     "traceback": [
      "\u001b[0;31m---------------------------------------------------------------------------\u001b[0m",
      "\u001b[0;31mIndexError\u001b[0m                                Traceback (most recent call last)",
      "\u001b[0;32m<ipython-input-61-16f5df06919c>\u001b[0m in \u001b[0;36m<module>\u001b[0;34m\u001b[0m\n\u001b[1;32m      1\u001b[0m \u001b[0;32mfrom\u001b[0m \u001b[0mskimage\u001b[0m\u001b[0;34m.\u001b[0m\u001b[0mdraw\u001b[0m \u001b[0;32mimport\u001b[0m \u001b[0mpolygon_perimeter\u001b[0m\u001b[0;34m\u001b[0m\u001b[0;34m\u001b[0m\u001b[0m\n\u001b[1;32m      2\u001b[0m \u001b[0mcanvas_scikit\u001b[0m \u001b[0;34m=\u001b[0m \u001b[0mnp\u001b[0m\u001b[0;34m.\u001b[0m\u001b[0mzeros\u001b[0m\u001b[0;34m(\u001b[0m\u001b[0mmap_shape\u001b[0m\u001b[0;34m,\u001b[0m \u001b[0mdtype\u001b[0m\u001b[0;34m=\u001b[0m\u001b[0mnp\u001b[0m\u001b[0;34m.\u001b[0m\u001b[0muint8\u001b[0m\u001b[0;34m)\u001b[0m\u001b[0;34m\u001b[0m\u001b[0;34m\u001b[0m\u001b[0m\n\u001b[0;32m----> 3\u001b[0;31m \u001b[0mrr\u001b[0m\u001b[0;34m,\u001b[0m \u001b[0mcc\u001b[0m \u001b[0;34m=\u001b[0m \u001b[0mpolygon_perimeter\u001b[0m\u001b[0;34m(\u001b[0m\u001b[0;34m[\u001b[0m\u001b[0mendp1\u001b[0m\u001b[0;34m[\u001b[0m\u001b[0;36m0\u001b[0m\u001b[0;34m]\u001b[0m\u001b[0;34m,\u001b[0m \u001b[0mendp2\u001b[0m\u001b[0;34m[\u001b[0m\u001b[0;36m0\u001b[0m\u001b[0;34m]\u001b[0m\u001b[0;34m]\u001b[0m\u001b[0;34m,\u001b[0m \u001b[0;34m[\u001b[0m\u001b[0mendp1\u001b[0m\u001b[0;34m[\u001b[0m\u001b[0;36m1\u001b[0m\u001b[0;34m]\u001b[0m\u001b[0;34m,\u001b[0m \u001b[0mendp2\u001b[0m\u001b[0;34m[\u001b[0m\u001b[0;36m1\u001b[0m\u001b[0;34m]\u001b[0m\u001b[0;34m]\u001b[0m\u001b[0;34m,\u001b[0m\u001b[0mshape\u001b[0m\u001b[0;34m=\u001b[0m\u001b[0mcanvas_scikit\u001b[0m\u001b[0;34m.\u001b[0m\u001b[0mshape\u001b[0m\u001b[0;34m,\u001b[0m \u001b[0mclip\u001b[0m\u001b[0;34m=\u001b[0m\u001b[0;32mTrue\u001b[0m\u001b[0;34m)\u001b[0m\u001b[0;34m\u001b[0m\u001b[0;34m\u001b[0m\u001b[0m\n\u001b[0m",
      "\u001b[0;32m~/miniconda3/envs/maoc/lib/python3.7/site-packages/skimage/draw/draw.py\u001b[0m in \u001b[0;36mpolygon_perimeter\u001b[0;34m(r, c, shape, clip)\u001b[0m\n\u001b[1;32m    245\u001b[0m     \u001b[0;31m# Do the clipping irrespective of whether clip is set.  This\u001b[0m\u001b[0;34m\u001b[0m\u001b[0;34m\u001b[0m\u001b[0;34m\u001b[0m\u001b[0m\n\u001b[1;32m    246\u001b[0m     \u001b[0;31m# ensures that the returned polygon is closed and is an array.\u001b[0m\u001b[0;34m\u001b[0m\u001b[0;34m\u001b[0m\u001b[0;34m\u001b[0m\u001b[0m\n\u001b[0;32m--> 247\u001b[0;31m     \u001b[0mr\u001b[0m\u001b[0;34m,\u001b[0m \u001b[0mc\u001b[0m \u001b[0;34m=\u001b[0m \u001b[0mpolygon_clip\u001b[0m\u001b[0;34m(\u001b[0m\u001b[0mr\u001b[0m\u001b[0;34m,\u001b[0m \u001b[0mc\u001b[0m\u001b[0;34m,\u001b[0m \u001b[0;34m*\u001b[0m\u001b[0mclip_box\u001b[0m\u001b[0;34m)\u001b[0m\u001b[0;34m\u001b[0m\u001b[0;34m\u001b[0m\u001b[0m\n\u001b[0m\u001b[1;32m    248\u001b[0m \u001b[0;34m\u001b[0m\u001b[0m\n\u001b[1;32m    249\u001b[0m     \u001b[0mr\u001b[0m \u001b[0;34m=\u001b[0m \u001b[0mnp\u001b[0m\u001b[0;34m.\u001b[0m\u001b[0mround\u001b[0m\u001b[0;34m(\u001b[0m\u001b[0mr\u001b[0m\u001b[0;34m)\u001b[0m\u001b[0;34m.\u001b[0m\u001b[0mastype\u001b[0m\u001b[0;34m(\u001b[0m\u001b[0mint\u001b[0m\u001b[0;34m)\u001b[0m\u001b[0;34m\u001b[0m\u001b[0;34m\u001b[0m\u001b[0m\n",
      "\u001b[0;32m~/miniconda3/envs/maoc/lib/python3.7/site-packages/skimage/_shared/_geometry.py\u001b[0m in \u001b[0;36mpolygon_clip\u001b[0;34m(rp, cp, r0, c0, r1, c1)\u001b[0m\n\u001b[1;32m     29\u001b[0m     \u001b[0mpoly\u001b[0m \u001b[0;34m=\u001b[0m \u001b[0mpath\u001b[0m\u001b[0;34m.\u001b[0m\u001b[0mPath\u001b[0m\u001b[0;34m(\u001b[0m\u001b[0mnp\u001b[0m\u001b[0;34m.\u001b[0m\u001b[0mvstack\u001b[0m\u001b[0;34m(\u001b[0m\u001b[0;34m(\u001b[0m\u001b[0mrp\u001b[0m\u001b[0;34m,\u001b[0m \u001b[0mcp\u001b[0m\u001b[0;34m)\u001b[0m\u001b[0;34m)\u001b[0m\u001b[0;34m.\u001b[0m\u001b[0mT\u001b[0m\u001b[0;34m,\u001b[0m \u001b[0mclosed\u001b[0m\u001b[0;34m=\u001b[0m\u001b[0;32mTrue\u001b[0m\u001b[0;34m)\u001b[0m\u001b[0;34m\u001b[0m\u001b[0;34m\u001b[0m\u001b[0m\n\u001b[1;32m     30\u001b[0m     \u001b[0mclip_rect\u001b[0m \u001b[0;34m=\u001b[0m \u001b[0mtransforms\u001b[0m\u001b[0;34m.\u001b[0m\u001b[0mBbox\u001b[0m\u001b[0;34m(\u001b[0m\u001b[0;34m[\u001b[0m\u001b[0;34m[\u001b[0m\u001b[0mr0\u001b[0m\u001b[0;34m,\u001b[0m \u001b[0mc0\u001b[0m\u001b[0;34m]\u001b[0m\u001b[0;34m,\u001b[0m \u001b[0;34m[\u001b[0m\u001b[0mr1\u001b[0m\u001b[0;34m,\u001b[0m \u001b[0mc1\u001b[0m\u001b[0;34m]\u001b[0m\u001b[0;34m]\u001b[0m\u001b[0;34m)\u001b[0m\u001b[0;34m\u001b[0m\u001b[0;34m\u001b[0m\u001b[0m\n\u001b[0;32m---> 31\u001b[0;31m     \u001b[0mpoly_clipped\u001b[0m \u001b[0;34m=\u001b[0m \u001b[0mpoly\u001b[0m\u001b[0;34m.\u001b[0m\u001b[0mclip_to_bbox\u001b[0m\u001b[0;34m(\u001b[0m\u001b[0mclip_rect\u001b[0m\u001b[0;34m)\u001b[0m\u001b[0;34m.\u001b[0m\u001b[0mto_polygons\u001b[0m\u001b[0;34m(\u001b[0m\u001b[0;34m)\u001b[0m\u001b[0;34m[\u001b[0m\u001b[0;36m0\u001b[0m\u001b[0;34m]\u001b[0m\u001b[0;34m\u001b[0m\u001b[0;34m\u001b[0m\u001b[0m\n\u001b[0m\u001b[1;32m     32\u001b[0m \u001b[0;34m\u001b[0m\u001b[0m\n\u001b[1;32m     33\u001b[0m     \u001b[0;31m# This should be fixed in matplotlib >1.5\u001b[0m\u001b[0;34m\u001b[0m\u001b[0;34m\u001b[0m\u001b[0;34m\u001b[0m\u001b[0m\n",
      "\u001b[0;31mIndexError\u001b[0m: list index out of range"
     ]
    }
   ],
   "source": [
    "from skimage.draw import polygon_perimeter\n",
    "canvas_scikit = np.zeros(map_shape, dtype=np.uint8)\n",
    "rr, cc = polygon_perimeter([endp1[0], endp2[0]], [endp1[1], endp2[1]],shape=canvas_scikit.shape, clip=True)"
   ]
  },
  {
   "cell_type": "markdown",
   "metadata": {},
   "source": [
    "Results: Using only two points doesn't seem to work"
   ]
  },
  {
   "cell_type": "markdown",
   "metadata": {},
   "source": [
    "### Test skimage using three points"
   ]
  },
  {
   "cell_type": "code",
   "execution_count": 62,
   "metadata": {},
   "outputs": [
    {
     "data": {
      "image/png": "[encoded data removed]",
      "text/plain": [
       "<Figure size 432x288 with 1 Axes>"
      ]
     },
     "metadata": {
      "needs_background": "light"
     },
     "output_type": "display_data"
    },
    {
     "name": "stdout",
     "output_type": "stream",
     "text": [
      "Running voronoi_finite_polygons_2d\n"
     ]
    },
    {
     "data": {
      "image/png": "[encoded data removed]",
      "text/plain": [
       "<Figure size 432x288 with 2 Axes>"
      ]
     },
     "metadata": {
      "needs_background": "light"
     },
     "output_type": "display_data"
    }
   ],
   "source": [
    "sites = np.random.randint(0, 63, (8,2))\n",
    "vor = Voronoi(sites)\n",
    "voronoi_plot_2d(vor)\n",
    "plt.show()\n",
    "new_regions, new_vertices, new_ridge_vertices = voronoi_finite_polygons_2d(vor, 10000)\n",
    "ridge_verts = vertIdxToVal(new_vertices, new_ridge_vertices)\n",
    "lines = drawMultipleLines(ridge_verts)\n",
    "\n",
    "# Clip lines to map size\n",
    "x_min = 0\n",
    "x_max = 63\n",
    "y_min = 0\n",
    "y_max = 63\n",
    "valid_lines = []\n",
    "for line in lines:\n",
    "    temp_line = []\n",
    "    for i,p in enumerate(line):\n",
    "        if (p[0] >= x_min and p[0] <= x_max) and (p[1] >= y_min and p[1] <= y_max):\n",
    "            temp_line.append(p)\n",
    "    valid_lines.append(temp_line)\n",
    "    \n",
    "# Draw on canvas\n",
    "canvas = np.zeros((64,64))\n",
    "for l in valid_lines:\n",
    "    for p in l:\n",
    "        canvas[p] = 1\n",
    "\n",
    "for s in sites.tolist():\n",
    "    canvas[tuple(s)] = 2\n",
    "plot2D(canvas)"
   ]
  },
  {
   "cell_type": "code",
   "execution_count": 63,
   "metadata": {},
   "outputs": [
    {
     "name": "stdout",
     "output_type": "stream",
     "text": [
      "Region size: 349\n",
      "Region size: 295\n",
      "Region size: 1096\n",
      "Region size: 525\n",
      "Region size: 467\n",
      "Region size: 797\n",
      "Region size: 317\n",
      "Region size: 250\n"
     ]
    },
    {
     "data": {
      "image/png": "[encoded data removed]",
      "text/plain": [
       "<Figure size 432x288 with 2 Axes>"
      ]
     },
     "metadata": {
      "needs_background": "light"
     },
     "output_type": "display_data"
    }
   ],
   "source": [
    "from skimage.draw import polygon_perimeter, polygon\n",
    "canvas_scikit = np.zeros(map_shape, dtype=np.uint8)\n",
    "\n",
    "# Color coding\n",
    "GENS = 0 # Generators (points used to generate Voronoi diagram)\n",
    "LINES = 1 # \"Cutting lines\"\n",
    "COLL = 2 # A region is colored this value if it is \"collectible\" (area <= threshold)\n",
    "NOTCOLL = 3 # A region is colored this value if it isn't \"collectible\" (area > threshold)\n",
    "COLL_THRESH = 500 # Threshold to determine whether a region is collectible or not\n",
    "    \n",
    "for r in new_regions:\n",
    "    vs = new_vertices[r,:]\n",
    "    v_x = vs[:,0].tolist()\n",
    "    v_y = vs[:,1].tolist()\n",
    "    rr_fill, cc_fill = polygon(v_x, v_y,shape=canvas_scikit.shape)\n",
    "    print(\"Region size: \" + str(rr_fill.shape[0]))\n",
    "    if rr_fill.shape[0] <= COLL_THRESH:\n",
    "        canvas_scikit[rr_fill, cc_fill] = COLL\n",
    "    else:\n",
    "        canvas_scikit[rr_fill, cc_fill] = NOTCOLL\n",
    "    rr, cc = polygon_perimeter(v_x, v_y,shape=canvas_scikit.shape, clip=False)\n",
    "    canvas_scikit[rr, cc] = LINES\n",
    "#     color+=1\n",
    "    \n",
    "for s in sites.tolist():\n",
    "    canvas_scikit[tuple(s)] = GENS\n",
    "    \n",
    "plot2D(canvas_scikit)"
   ]
  },
  {
   "cell_type": "code",
   "execution_count": 64,
   "metadata": {},
   "outputs": [],
   "source": [
    "def generatePlot(sites, map_shape, validateArea=True, validateLines=True):\n",
    "    canvas = np.zeros(map_shape, dtype=np.uint8)\n",
    "    \n",
    "    # No sites\n",
    "    if sites.shape[0] == 0:\n",
    "        return canvas # Return empty canvas\n",
    "    \n",
    "    # One site\n",
    "    elif sites.shape[0] == 1:\n",
    "        # Plot generators\n",
    "        for s in sites.tolist():\n",
    "            canvas[tuple(s)] = GENS\n",
    "            \n",
    "    # Two sites\n",
    "    elif sites.shape[0] == 2:\n",
    "        \n",
    "        # Calculate perpendicular bisector and get vertices at the boundary\n",
    "        midpoint, slope = midPoint_and_slope(tuple(sites[0]), tuple(sites[1]))\n",
    "        endpoints, raw_endpoints = findEndpoints(midpoint, slope, map_shape)\n",
    "        endp1 = endpoints[0]\n",
    "        endp2 = endpoints[1]\n",
    "\n",
    "        # TODO: Add if statement to validate line\n",
    "        # Draw Bresenham's line: \n",
    "        points = drawLine(endp1[::-1],endp2[::-1])\n",
    "        for i in points:\n",
    "            canvas[i] = LINES\n",
    "            \n",
    "        # Validate area\n",
    "        if validateArea:\n",
    "            temp_color1 = 4\n",
    "            temp_color2 = 5\n",
    "            area1 = 0\n",
    "            area2 = 0\n",
    "            \n",
    "#             # Label and count two regions\n",
    "#             for k in range(len(points)):\n",
    "#                 i = points[k][0]\n",
    "#                 for j in range(points[k][1]-1):\n",
    "#                     canvas[i][j] = temp_color1\n",
    "#                     area1 += 1\n",
    "#                 for j in range(map_shape[0]-points[k][1]):\n",
    "#                     canvas[i][-j-1] = temp_color2\n",
    "#                     area2 += 1\n",
    "                    \n",
    "#             for r in range(map_shape[0]):\n",
    "#                 color = temp_color1\n",
    "#                 area_toggle = 0\n",
    "#                 for c in range(map_shape[1]):\n",
    "#                     if canvas[r,c] == LINES:\n",
    "#                         color = temp_color2\n",
    "#                         area_toggle = 1\n",
    "#                         continue\n",
    "#                     canvas[r,c] = color\n",
    "#                     if area_toggle == 0:\n",
    "#                         area1 += 1\n",
    "#                     else:\n",
    "#                         area2 += 1\n",
    "                        \n",
    "            for r in range(map_shape[0]):\n",
    "                for c in range(map_shape[1]):\n",
    "                    if canvas[r,c] == LINES:\n",
    "                        continue\n",
    "                    elif r > slope * c - (slope*midpoint[0] + midpoint[1]):\n",
    "                        area1 += 1\n",
    "                        canvas[r,c] = temp_color1\n",
    "                    else:\n",
    "                        area2 += 1\n",
    "                        canvas[r,c] = temp_color2\n",
    "                        \n",
    "            # Validate region 1\n",
    "#             if area1 <= COLL_THRESH:\n",
    "#                 canvas[np.where(canvas == temp_color1)] = COLL\n",
    "#             else:\n",
    "#                 canvas[np.where(canvas == temp_color1)] = NOTCOLL\n",
    "            \n",
    "#             # Validate region 2\n",
    "#             if area2 <= COLL_THRESH:\n",
    "#                 canvas[np.where(canvas == temp_color2)] = COLL\n",
    "#             else:\n",
    "#                 canvas[np.where(canvas == temp_color2)] = NOTCOLL\n",
    "                \n",
    "        # Plot generators\n",
    "        for s in sites.tolist():\n",
    "            canvas[tuple(s[::-1])] = GENS\n",
    "                \n",
    "    else:\n",
    "        vor = Voronoi(sites)\n",
    "        new_regions, new_vertices, new_ridge_vertices = voronoi_finite_polygons_2d(vor, 10000)\n",
    "        ridge_verts = vertIdxToVal(new_vertices, new_ridge_vertices)\n",
    "        \n",
    "        # Draw lines and optionally validate area\n",
    "        for r in new_regions:\n",
    "            vs = new_vertices[r,:]\n",
    "            v_x = vs[:,0].tolist()\n",
    "            v_y = vs[:,1].tolist()\n",
    "            \n",
    "            if validateArea:\n",
    "                rr_fill, cc_fill = polygon(v_x, v_y,shape=canvas.shape)\n",
    "                print(\"Region size: \" + str(rr_fill.shape[0]))\n",
    "                if rr_fill.shape[0] <= COLL_THRESH:\n",
    "                    canvas[rr_fill, cc_fill] = COLL\n",
    "                else:\n",
    "                    canvas[rr_fill, cc_fill] = NOTCOLL\n",
    "                    \n",
    "            rr, cc = polygon_perimeter(v_x, v_y,shape=canvas.shape, clip=False)\n",
    "            canvas[rr, cc] = LINES\n",
    "    \n",
    "        # Plot generators\n",
    "        for s in sites.tolist():\n",
    "            canvas[tuple(s)] = GENS\n",
    "            \n",
    "    return canvas"
   ]
  },
  {
   "cell_type": "code",
   "execution_count": 65,
   "metadata": {},
   "outputs": [
    {
     "data": {
      "image/png": "[encoded data removed]",
      "text/plain": [
       "<Figure size 432x288 with 2 Axes>"
      ]
     },
     "metadata": {
      "needs_background": "light"
     },
     "output_type": "display_data"
    }
   ],
   "source": [
    "sites = np.random.randint(0, 63, (2,2))\n",
    "map_shape = (64,64)\n",
    "canvas = generatePlot(sites, map_shape, validateArea=True, validateLines=True)\n",
    "plot2D(canvas)"
   ]
  },
  {
   "cell_type": "code",
   "execution_count": null,
   "metadata": {},
   "outputs": [],
   "source": []
  },
  {
   "cell_type": "code",
   "execution_count": 66,
   "metadata": {},
   "outputs": [
    {
     "data": {
      "text/plain": [
       "array([[ 4, 46],\n",
       "       [36, 41]])"
      ]
     },
     "execution_count": 66,
     "metadata": {},
     "output_type": "execute_result"
    }
   ],
   "source": [
    "sites"
   ]
  },
  {
   "cell_type": "code",
   "execution_count": 67,
   "metadata": {},
   "outputs": [],
   "source": [
    "midpoint, slope = midPoint_and_slope(tuple(sites[0]), tuple(sites[1]))\n",
    "endpoints, raw_endpoints = findEndpoints(midpoint, slope, map_shape)\n",
    "endp1 = endpoints[0]\n",
    "endp2 = endpoints[1]"
   ]
  },
  {
   "cell_type": "code",
   "execution_count": 68,
   "metadata": {},
   "outputs": [
    {
     "data": {
      "text/plain": [
       "(20.0, 43.5)"
      ]
     },
     "execution_count": 68,
     "metadata": {},
     "output_type": "execute_result"
    }
   ],
   "source": [
    "midpoint"
   ]
  },
  {
   "cell_type": "code",
   "execution_count": 69,
   "metadata": {},
   "outputs": [
    {
     "data": {
      "text/plain": [
       "6.4"
      ]
     },
     "execution_count": 69,
     "metadata": {},
     "output_type": "execute_result"
    }
   ],
   "source": [
    "slope"
   ]
  },
  {
   "cell_type": "code",
   "execution_count": 70,
   "metadata": {},
   "outputs": [
    {
     "data": {
      "text/plain": [
       "False"
      ]
     },
     "execution_count": 70,
     "metadata": {},
     "output_type": "execute_result"
    }
   ],
   "source": [
    "slope == np.inf"
   ]
  },
  {
   "cell_type": "code",
   "execution_count": 71,
   "metadata": {},
   "outputs": [
    {
     "data": {
      "text/plain": [
       "(23, 63)"
      ]
     },
     "execution_count": 71,
     "metadata": {},
     "output_type": "execute_result"
    }
   ],
   "source": [
    "endp1"
   ]
  },
  {
   "cell_type": "code",
   "execution_count": 72,
   "metadata": {},
   "outputs": [
    {
     "data": {
      "text/plain": [
       "(13, 0)"
      ]
     },
     "execution_count": 72,
     "metadata": {},
     "output_type": "execute_result"
    }
   ],
   "source": [
    "endp2"
   ]
  },
  {
   "cell_type": "code",
   "execution_count": 73,
   "metadata": {},
   "outputs": [
    {
     "data": {
      "text/plain": [
       "[(13.203125, 0), (63, 318.70000000000005), (23.046875, 63), (0, -84.5)]"
      ]
     },
     "execution_count": 73,
     "metadata": {},
     "output_type": "execute_result"
    }
   ],
   "source": [
    "raw_endpoints"
   ]
  },
  {
   "cell_type": "code",
   "execution_count": 382,
   "metadata": {},
   "outputs": [],
   "source": [
    "def countArea2Gen(endp1, endp2, midpoint, slope, map_shape):\n",
    "    temp_color1 = 4\n",
    "    temp_color2 = 5\n",
    "    area1 = 0\n",
    "    area2 = 0\n",
    "            \n",
    "    canvas = np.zeros(map_shape)\n",
    "    points = drawLine(endp1[::-1],endp2[::-1])\n",
    "    \n",
    "    \n",
    "    # Vertical cutting line\n",
    "    if slope == np.inf or slope == -np.inf:\n",
    "        for r in range(map_shape[1]):\n",
    "            for c in range(map_shape[0]):\n",
    "                if c < int(midpoint[0]):\n",
    "                    canvas[r,c] = temp_color1\n",
    "                    area1 += 1\n",
    "                elif c > int(midpoint[0]):\n",
    "                    canvas[r,c] = temp_color2\n",
    "                    area2 += 1\n",
    "    \n",
    "    # For any other line, use actual y value to determine area\n",
    "    for r in range(map_shape[1]):\n",
    "        for c in range(map_shape[0]):\n",
    "            real_y = slope*(c - midpoint[0]) + midpoint[1]\n",
    "            if r > real_y:\n",
    "                canvas[r,c] = temp_color1\n",
    "                area1 += 1\n",
    "            else:\n",
    "                canvas[r,c] = temp_color2\n",
    "                area2 += 1\n",
    "                \n",
    "    # Plot lines\n",
    "    for i in points:\n",
    "        canvas[i] = LINES\n",
    "    \n",
    "    return canvas\n",
    "    "
   ]
  },
  {
   "cell_type": "code",
   "execution_count": 383,
   "metadata": {},
   "outputs": [],
   "source": [
    "map_shape = (64,64)"
   ]
  },
  {
   "cell_type": "code",
   "execution_count": 322,
   "metadata": {},
   "outputs": [
    {
     "data": {
      "image/png": "[encoded data removed]",
      "text/plain": [
       "<Figure size 432x288 with 2 Axes>"
      ]
     },
     "metadata": {
      "needs_background": "light"
     },
     "output_type": "display_data"
    }
   ],
   "source": [
    "# sites = np.array([[14,30],[32,10]])\n",
    "sites = np.random.randint(0, 63, (2,2))\n",
    "midpoint, slope = midPoint_and_slope(tuple(sites[0]), tuple(sites[1]))\n",
    "endpoints, raw_endpoints = findEndpoints(midpoint, slope, map_shape)\n",
    "endp1 = endpoints[0]\n",
    "endp2 = endpoints[1]\n",
    "canvas = countArea2Gen(endp1, endp2, midpoint, slope, map_shape)\n",
    "for s in sites.tolist():\n",
    "    s = s[::-1]\n",
    "    canvas[tuple(s)] = GENS\n",
    "plot2D(canvas)"
   ]
  },
  {
   "cell_type": "code",
   "execution_count": 636,
   "metadata": {},
   "outputs": [],
   "source": [
    "class Region:\n",
    "    def __init__(self, area = 0, coll = False, vertices = []):\n",
    "        self.area = area\n",
    "        self.coll = coll\n",
    "        self.vertices = vertices\n",
    "    \n",
    "current_regions = []\n",
    "\n",
    "def generatePlot(sites, map_shape, validateArea=True, validateLines=True):\n",
    "    canvas = np.zeros(map_shape, dtype=np.uint8)\n",
    "    \n",
    "    # Define functions for two cases: 2 generators, or more than 2 generators\n",
    "\n",
    "    def twoGenerators():\n",
    "        midpoint, slope = midPoint_and_slope(tuple(sites[0]), tuple(sites[1]))\n",
    "        endpoints, raw_endpoints = findEndpoints(midpoint, slope, map_shape)\n",
    "        endp1 = endpoints[0]\n",
    "        endp2 = endpoints[1]\n",
    "    \n",
    "        temp_color1 = 4\n",
    "        temp_color2 = 5\n",
    "        area1 = 0\n",
    "        area2 = 0\n",
    "            \n",
    "#         canvas = np.zeros(map_shape)\n",
    "        points = drawLine(endp1[::-1],endp2[::-1])\n",
    "    \n",
    "    \n",
    "        # Vertical cutting line\n",
    "        if slope == np.inf or slope == -np.inf:\n",
    "            for r in range(map_shape[1]):\n",
    "                for c in range(map_shape[0]):\n",
    "                    if c < int(midpoint[0]):\n",
    "                        canvas[r,c] = temp_color1\n",
    "                        area1 += 1\n",
    "                    elif c > int(midpoint[0]):\n",
    "                        canvas[r,c] = temp_color2\n",
    "                        area2 += 1\n",
    "    \n",
    "        # For any other line, use actual y value to determine area\n",
    "        for r in range(map_shape[1]):\n",
    "            for c in range(map_shape[0]):\n",
    "                real_y = slope*(c - midpoint[0]) + midpoint[1]\n",
    "                if r > real_y:\n",
    "                    canvas[r,c] = temp_color1\n",
    "                    area1 += 1\n",
    "                else:\n",
    "                    canvas[r,c] = temp_color2\n",
    "                    area2 += 1\n",
    "                    \n",
    "        # Add regions to region list\n",
    "        temp_region = Region(area1)\n",
    "        # Assign actual colors to the areas (validate areas)\n",
    "        region1 = np.where(canvas == temp_color1)\n",
    "        if region1[0].shape[0] <= COLL_THRESH:\n",
    "            canvas[region1] = COLL\n",
    "            temp_region.coll = True\n",
    "        else:\n",
    "            canvas[region1] = NOTCOLL\n",
    "            temp_region.coll = False\n",
    "        current_regions.append(temp_region)\n",
    "        \n",
    "        temp_region = Region(area2)\n",
    "        region2 = np.where(canvas == temp_color2)\n",
    "        if region2[0].shape[0] <= COLL_THRESH:\n",
    "            canvas[region2] = COLL\n",
    "            temp_region.coll = True\n",
    "        else:\n",
    "            canvas[region2] = NOTCOLL\n",
    "            temp_region.coll = False\n",
    "        current_regions.append(temp_region)\n",
    "        \n",
    "                \n",
    "        # Plot lines\n",
    "        for i in points:\n",
    "            canvas[i] = LINES\n",
    "    \n",
    "#         return canvas\n",
    "\n",
    "    def moreThanTwoGenerators():\n",
    "        vor = Voronoi(sites)\n",
    "        print(\"Regular Regions: \")\n",
    "        print(vor.regions)\n",
    "        print(len(vor.regions))\n",
    "        new_regions, new_vertices, new_ridge_vertices = voronoi_finite_polygons_2d(vor, 10000)\n",
    "        print(\"New Regions: \")\n",
    "        print(new_regions)\n",
    "        print(len(new_regions))\n",
    "        ridge_verts = vertIdxToVal(new_vertices, new_ridge_vertices)\n",
    "        \n",
    "        # Draw lines and optionally validate area\n",
    "        for r in new_regions:\n",
    "            vs = new_vertices[r,:]\n",
    "            v_x = vs[:,0].tolist()\n",
    "            v_y = vs[:,1].tolist()\n",
    "            \n",
    "            rr_fill, cc_fill = polygon(v_x, v_y,shape=canvas.shape)\n",
    "            temp_region = Region(rr_fill.shape[0])\n",
    "            print(\"Region size: \" + str(rr_fill.shape[0]))\n",
    "            if rr_fill.shape[0] <= COLL_THRESH:\n",
    "                canvas[rr_fill, cc_fill] = COLL\n",
    "                temp_region.coll = True\n",
    "            else:\n",
    "                canvas[rr_fill, cc_fill] = NOTCOLL\n",
    "                temp_region.coll = False\n",
    "                    \n",
    "            current_regions.append(temp_region)\n",
    "            rr, cc = polygon_perimeter(v_x, v_y,shape=canvas.shape, clip=False)\n",
    "            canvas[rr, cc] = LINES\n",
    "#         return canvas\n",
    "    \n",
    "    # Do appropriate action based on number of generators\n",
    "\n",
    "    # No sites\n",
    "    if sites.shape[0] == 0:\n",
    "        return canvas # Return empty canvas\n",
    "    \n",
    "    # One site\n",
    "    elif sites.shape[0] == 1:\n",
    "        # Plot generators\n",
    "        for s in sites.tolist():\n",
    "            canvas[tuple(s)] = GENS\n",
    "    \n",
    "    # Two sites\n",
    "    elif sites.shape[0] == 2:\n",
    "        twoGenerators()\n",
    "    \n",
    "    # More than two sites\n",
    "    else:\n",
    "        moreThanTwoGenerators()\n",
    "    \n",
    "    print(\"current_region\")\n",
    "    for r in current_regions:\n",
    "        print(r.coll)\n",
    "    return canvas"
   ]
  },
  {
   "cell_type": "code",
   "execution_count": 641,
   "metadata": {},
   "outputs": [
    {
     "name": "stdout",
     "output_type": "stream",
     "text": [
      "Regular Regions: \n",
      "[[], [1, -1, 0], [4, 2, 3], [4, 1, -1, 2], [3, 0, -1, 2], [4, 1, 0, 3]]\n",
      "6\n",
      "Running voronoi_finite_polygons_2d\n",
      "New Regions: \n",
      "[[0, 3, 2, 6, 5], [4, 1, 0, 3], [7, 8, 2, 4, 1], [10, 1, 0, 9], [4, 2, 3]]\n",
      "5\n",
      "Region size: 1207\n",
      "Region size: 761\n",
      "Region size: 327\n",
      "Region size: 1065\n",
      "Region size: 736\n",
      "current_region\n",
      "True\n",
      "False\n",
      "True\n",
      "False\n",
      "True\n",
      "False\n",
      "True\n",
      "True\n",
      "True\n",
      "False\n",
      "True\n",
      "True\n",
      "True\n",
      "True\n",
      "False\n",
      "True\n",
      "False\n",
      "True\n",
      "True\n",
      "False\n",
      "True\n"
     ]
    },
    {
     "data": {
      "image/png": "[encoded data removed]",
      "text/plain": [
       "<Figure size 432x288 with 2 Axes>"
      ]
     },
     "metadata": {
      "needs_background": "light"
     },
     "output_type": "display_data"
    }
   ],
   "source": [
    "COLL_THRESH = 1000\n",
    "sites = np.random.randint(0, 63, (5,2))\n",
    "map_shape = (64,64)\n",
    "canvas = generatePlot(sites, map_shape, validateArea=True, validateLines=True)\n",
    "plot2D(canvas)"
   ]
  },
  {
   "cell_type": "markdown",
   "metadata": {},
   "source": [
    "## Try out interpolation"
   ]
  },
  {
   "cell_type": "code",
   "execution_count": 84,
   "metadata": {},
   "outputs": [],
   "source": [
    "from scipy.interpolate import interp1d\n",
    "m = interp1d([-1,1],[0,63])"
   ]
  },
  {
   "cell_type": "code",
   "execution_count": 102,
   "metadata": {},
   "outputs": [
    {
     "data": {
      "text/plain": [
       "31"
      ]
     },
     "execution_count": 102,
     "metadata": {},
     "output_type": "execute_result"
    }
   ],
   "source": [
    "int(m(0))"
   ]
  },
  {
   "cell_type": "code",
   "execution_count": 1,
   "metadata": {},
   "outputs": [],
   "source": [
    "import numpy as np"
   ]
  },
  {
   "cell_type": "code",
   "execution_count": 18,
   "metadata": {},
   "outputs": [],
   "source": [
    "g = [np.array([1.0, 2.0]), np.array([3.0, 4.0])]"
   ]
  },
  {
   "cell_type": "code",
   "execution_count": 19,
   "metadata": {},
   "outputs": [
    {
     "data": {
      "text/plain": [
       "[array([1., 2.]), array([3., 4.])]"
      ]
     },
     "execution_count": 19,
     "metadata": {},
     "output_type": "execute_result"
    }
   ],
   "source": [
    "g"
   ]
  },
  {
   "cell_type": "code",
   "execution_count": 20,
   "metadata": {},
   "outputs": [
    {
     "data": {
      "text/plain": [
       "array([2., 1.])"
      ]
     },
     "execution_count": 20,
     "metadata": {},
     "output_type": "execute_result"
    }
   ],
   "source": [
    "g[0][::-1]"
   ]
  },
  {
   "cell_type": "code",
   "execution_count": 21,
   "metadata": {},
   "outputs": [],
   "source": [
    "c = np.zeros((64, 64))"
   ]
  },
  {
   "cell_type": "code",
   "execution_count": 22,
   "metadata": {},
   "outputs": [],
   "source": [
    "i = tuple(g[0][::-1])"
   ]
  },
  {
   "cell_type": "code",
   "execution_count": 25,
   "metadata": {},
   "outputs": [
    {
     "data": {
      "text/plain": [
       "(2.0, 1.0)"
      ]
     },
     "execution_count": 25,
     "metadata": {},
     "output_type": "execute_result"
    }
   ],
   "source": [
    "i"
   ]
  },
  {
   "cell_type": "code",
   "execution_count": 26,
   "metadata": {},
   "outputs": [
    {
     "data": {
      "text/plain": [
       "(2, 1)"
      ]
     },
     "execution_count": 26,
     "metadata": {},
     "output_type": "execute_result"
    }
   ],
   "source": [
    "tuple(map(int, i))"
   ]
  },
  {
   "cell_type": "code",
   "execution_count": 23,
   "metadata": {},
   "outputs": [
    {
     "ename": "IndexError",
     "evalue": "only integers, slices (`:`), ellipsis (`...`), numpy.newaxis (`None`) and integer or boolean arrays are valid indices",
     "output_type": "error",
     "traceback": [
      "\u001b[0;31m---------------------------------------------------------------------------\u001b[0m",
      "\u001b[0;31mIndexError\u001b[0m                                Traceback (most recent call last)",
      "\u001b[0;32m<ipython-input-23-03bf558abaac>\u001b[0m in \u001b[0;36m<module>\u001b[0;34m\u001b[0m\n\u001b[0;32m----> 1\u001b[0;31m \u001b[0mc\u001b[0m\u001b[0;34m[\u001b[0m\u001b[0mi\u001b[0m\u001b[0;34m]\u001b[0m \u001b[0;34m=\u001b[0m \u001b[0;36m1\u001b[0m\u001b[0;34m\u001b[0m\u001b[0;34m\u001b[0m\u001b[0m\n\u001b[0m",
      "\u001b[0;31mIndexError\u001b[0m: only integers, slices (`:`), ellipsis (`...`), numpy.newaxis (`None`) and integer or boolean arrays are valid indices"
     ]
    }
   ],
   "source": [
    "c[i] = 1"
   ]
  },
  {
   "cell_type": "code",
   "execution_count": 17,
   "metadata": {},
   "outputs": [
    {
     "data": {
      "text/plain": [
       "array([[0., 0., 0., ..., 0., 0., 0.],\n",
       "       [0., 0., 0., ..., 0., 0., 0.],\n",
       "       [0., 1., 0., ..., 0., 0., 0.],\n",
       "       ...,\n",
       "       [0., 0., 0., ..., 0., 0., 0.],\n",
       "       [0., 0., 0., ..., 0., 0., 0.],\n",
       "       [0., 0., 0., ..., 0., 0., 0.]])"
      ]
     },
     "execution_count": 17,
     "metadata": {},
     "output_type": "execute_result"
    }
   ],
   "source": [
    "c"
   ]
  },
  {
   "cell_type": "code",
   "execution_count": null,
   "metadata": {},
   "outputs": [],
   "source": []
  }
 ],
 "metadata": {
  "kernelspec": {
   "display_name": "Python 3",
   "language": "python",
   "name": "python3"
  },
  "language_info": {
   "codemirror_mode": {
    "name": "ipython",
    "version": 3
   },
   "file_extension": ".py",
   "mimetype": "text/x-python",
   "name": "python",
   "nbconvert_exporter": "python",
   "pygments_lexer": "ipython3",
   "version": "3.7.7"
  }
 },
 "nbformat": 4,
 "nbformat_minor": 4
}
